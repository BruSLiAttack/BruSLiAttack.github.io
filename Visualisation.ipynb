{
 "cells": [
  {
   "cell_type": "markdown",
   "metadata": {},
   "source": [
    "# Welcome to The Illustration of BruSLiAttack"
   ]
  },
  {
   "cell_type": "markdown",
   "metadata": {},
   "source": [
    "### Against Convolution-based and Transformer-based Neural Networks\n",
    "\n",
    "<img src=\".\\figures\\adv ex-imagenet-different arch-visualization.svg\"/>\n",
    "\n",
    "Figure 1a: _Targeted Attack_. Visualization of Adversarial examples crafted by __BruSLiAttack__ with a budget of __5000 queries__.\n",
    "\n",
    "<img src=\".\\figures\\adv ex-imagenet-different arch-visualization-2.svg\"/>\n",
    "\n",
    "Figure 1b: _Targeted Attack_. Visualization of Adversarial examples crafted by __BruSLiAttack__ with a budget of __5000 queries__.\n",
    "\n",
    "<img src=\".\\figures\\Visualization of Dissimilarity Maps-2.svg\"/>\n",
    "Figure 1c: Visualization of Dissimilarity Maps."
   ]
  },
  {
   "cell_type": "markdown",
   "metadata": {},
   "source": [
    "### Against _Google Cloud Vision_\n",
    "\n",
    "Table 1: Demonstration of sparse attacks against GCV in targeted settings. BruSLiAttack is able to successfully yield adversarial instances for all five examples with less queries than SparseRS. Especially, for the example of Mushroom, SparseRS fails to attack GCV within a budget of 5000 queries. Demonstration on GCV API (online platform).\n",
    "\n",
    "<img src=\".\\figures\\GCV demo table-2.svg\"/>\n",
    "<img src=\".\\figures\\gcv-demonstration-2.svg\"/>\n",
    "\n",
    "Figure  2: a) demonstrates results for clean image (no attack) predicted by __Google Cloud Vision__ (GCV). b) shows the predictions from GCV for adversarial examples crafted successfully by __BruSLiAttack__ with less than 3,000 queries and sparsity of 0.05 %. c) shows the results from GCV for adversarial examples crafted by __SparseRS__ with the same sparsity. But SparseRS needs more queries than BruSLiAttack to successfully yield adversarial images or fail to attack with _query budget_ up to __5,000__ as shown in Tab. 1."
   ]
  }
 ],
 "metadata": {
  "kernelspec": {
   "display_name": "Python 3",
   "language": "python",
   "name": "python3"
  },
  "language_info": {
   "codemirror_mode": {
    "name": "ipython",
    "version": 3
   },
   "file_extension": ".py",
   "mimetype": "text/x-python",
   "name": "python",
   "nbconvert_exporter": "python",
   "pygments_lexer": "ipython3",
   "version": "3.6.9"
  }
 },
 "nbformat": 4,
 "nbformat_minor": 4
}
